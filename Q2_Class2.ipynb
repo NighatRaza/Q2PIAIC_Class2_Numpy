{
 "cells": [
  {
   "cell_type": "code",
   "execution_count": 1,
   "id": "b510c947",
   "metadata": {},
   "outputs": [],
   "source": [
    "import numpy as np"
   ]
  },
  {
   "cell_type": "code",
   "execution_count": 2,
   "id": "d524d17b",
   "metadata": {},
   "outputs": [
    {
     "data": {
      "text/plain": [
       "array([[[ 0,  1,  2],\n",
       "        [ 3,  4,  5],\n",
       "        [ 6,  7,  8]],\n",
       "\n",
       "       [[ 9, 10, 11],\n",
       "        [12, 13, 14],\n",
       "        [15, 16, 17]],\n",
       "\n",
       "       [[18, 19, 20],\n",
       "        [21, 22, 23],\n",
       "        [24, 25, 26]]])"
      ]
     },
     "execution_count": 2,
     "metadata": {},
     "output_type": "execute_result"
    }
   ],
   "source": [
    "# 3slide 3row 3col\n",
    "# reshape is a function which changes object \n",
    "\n",
    "a = np.arange(3*3*3).reshape(3,3,3)\n",
    "a"
   ]
  },
  {
   "cell_type": "code",
   "execution_count": 5,
   "id": "9ccd32da",
   "metadata": {},
   "outputs": [
    {
     "name": "stdout",
     "output_type": "stream",
     "text": [
      "3\n",
      "(3, 3, 3)\n",
      "27\n"
     ]
    }
   ],
   "source": [
    "# properties/attributes are method which doesnot change object\n",
    "\n",
    "# no. of dimensions/rank 3D => real world data max 5-Dim(video)\n",
    "print(a.ndim)\n",
    "\n",
    "# no. of axis in each dimension\n",
    "print(a.shape)\n",
    "\n",
    "# no. elements\n",
    "print(a.size)"
   ]
  },
  {
   "cell_type": "code",
   "execution_count": 6,
   "id": "2f14a1f3",
   "metadata": {},
   "outputs": [
    {
     "data": {
      "text/plain": [
       "array([[[  0,   1,   2,   3,   4,   5,   6,   7],\n",
       "        [  8,   9,  10,  11,  12,  13,  14,  15],\n",
       "        [ 16,  17,  18,  19,  20,  21,  22,  23],\n",
       "        [ 24,  25,  26,  27,  28,  29,  30,  31],\n",
       "        [ 32,  33,  34,  35,  36,  37,  38,  39],\n",
       "        [ 40,  41,  42,  43,  44,  45,  46,  47],\n",
       "        [ 48,  49,  50,  51,  52,  53,  54,  55],\n",
       "        [ 56,  57,  58,  59,  60,  61,  62,  63]],\n",
       "\n",
       "       [[ 64,  65,  66,  67,  68,  69,  70,  71],\n",
       "        [ 72,  73,  74,  75,  76,  77,  78,  79],\n",
       "        [ 80,  81,  82,  83,  84,  85,  86,  87],\n",
       "        [ 88,  89,  90,  91,  92,  93,  94,  95],\n",
       "        [ 96,  97,  98,  99, 100, 101, 102, 103],\n",
       "        [104, 105, 106, 107, 108, 109, 110, 111],\n",
       "        [112, 113, 114, 115, 116, 117, 118, 119],\n",
       "        [120, 121, 122, 123, 124, 125, 126, 127]],\n",
       "\n",
       "       [[128, 129, 130, 131, 132, 133, 134, 135],\n",
       "        [136, 137, 138, 139, 140, 141, 142, 143],\n",
       "        [144, 145, 146, 147, 148, 149, 150, 151],\n",
       "        [152, 153, 154, 155, 156, 157, 158, 159],\n",
       "        [160, 161, 162, 163, 164, 165, 166, 167],\n",
       "        [168, 169, 170, 171, 172, 173, 174, 175],\n",
       "        [176, 177, 178, 179, 180, 181, 182, 183],\n",
       "        [184, 185, 186, 187, 188, 189, 190, 191]],\n",
       "\n",
       "       [[192, 193, 194, 195, 196, 197, 198, 199],\n",
       "        [200, 201, 202, 203, 204, 205, 206, 207],\n",
       "        [208, 209, 210, 211, 212, 213, 214, 215],\n",
       "        [216, 217, 218, 219, 220, 221, 222, 223],\n",
       "        [224, 225, 226, 227, 228, 229, 230, 231],\n",
       "        [232, 233, 234, 235, 236, 237, 238, 239],\n",
       "        [240, 241, 242, 243, 244, 245, 246, 247],\n",
       "        [248, 249, 250, 251, 252, 253, 254, 255]]])"
      ]
     },
     "execution_count": 6,
     "metadata": {},
     "output_type": "execute_result"
    }
   ],
   "source": [
    "# 4 pics resolution 8x8\n",
    "# 1) samples\n",
    "# 2) rows\n",
    "# 3) columns\n",
    "\n",
    "t = np.arange(4*8*8).reshape(4,8,8)  \n",
    "t"
   ]
  },
  {
   "cell_type": "code",
   "execution_count": 7,
   "id": "2b3744f2",
   "metadata": {},
   "outputs": [
    {
     "data": {
      "text/plain": [
       "array([[[133, 222, 219,  86, 135,  69, 243, 166],\n",
       "        [ 26,  70,  52, 250,  23, 193, 206,  19],\n",
       "        [128, 228, 101,  20, 241,  62,  11, 170],\n",
       "        [250, 105, 214,  89, 234,  33,  53, 109],\n",
       "        [141, 214, 172, 104, 107,  63,  38, 185],\n",
       "        [109, 119, 102, 184, 177, 236, 241, 130],\n",
       "        [ 77, 135,  53, 167, 222, 141, 112, 118],\n",
       "        [ 97, 212, 105, 103, 118, 231,  40, 177]],\n",
       "\n",
       "       [[  8, 106, 253,  24,  80,  27,  89,  41],\n",
       "        [153,  12, 203, 114, 227, 112, 182, 152],\n",
       "        [ 57, 153, 235, 103, 248,  83, 175, 254],\n",
       "        [206, 209, 134, 215, 182,  93, 251, 164],\n",
       "        [194, 160,  86, 112,  76,  80, 217,  26],\n",
       "        [ 95, 118, 177, 227,  92, 226, 175, 227],\n",
       "        [ 97, 241, 198, 219,  15, 226, 101,  28],\n",
       "        [ 82,  74,  60, 192, 212,  57,  36, 218]],\n",
       "\n",
       "       [[204,   2, 177,  79,  51,  17, 106, 190],\n",
       "        [ 35,  17, 138, 183, 233, 132, 136, 129],\n",
       "        [136,  25, 161, 184,  68,  29,  60, 220],\n",
       "        [120,  89,  77, 171,  25,  89, 132, 159],\n",
       "        [ 93,  41,  77, 203,  48, 241,  42,  49],\n",
       "        [216, 128, 132, 120,  95, 199, 188, 130],\n",
       "        [138, 104,   2,  74, 167, 189,  78, 195],\n",
       "        [152,  40,   5, 148, 182,  23,  18, 168]],\n",
       "\n",
       "       [[212, 193, 113,  23,  82,  77, 135, 122],\n",
       "        [ 70,  98,  25, 187,  16, 239, 246,   1],\n",
       "        [ 41, 213,  65,  65, 163,  21, 181, 216],\n",
       "        [199, 116,  34, 136, 131,  50,  95, 106],\n",
       "        [ 53, 240, 232, 171,  73, 206, 110, 217],\n",
       "        [113,  90, 238, 133, 238, 199, 230, 124],\n",
       "        [177,   8, 183,  50,  54,  10,  66,  93],\n",
       "        [132,   4,  12, 225, 167, 102, 208, 156]],\n",
       "\n",
       "       [[100,  70, 148, 197,  78, 154,   6,  70],\n",
       "        [ 39, 238,  47, 163, 169, 197,  68,  99],\n",
       "        [206,   9, 162,  14, 252, 199,  58, 151],\n",
       "        [ 18,  42,   6, 196,  44, 149, 131,  93],\n",
       "        [196,  26,  35,  74,  86, 224, 237,  23],\n",
       "        [ 71,  11,   8, 240, 240, 147, 167, 252],\n",
       "        [252, 164, 179, 115, 200, 221, 110, 193],\n",
       "        [ 53, 236, 113,  45, 181,  30, 204, 219]],\n",
       "\n",
       "       [[154, 146, 152, 151, 120, 252,  21,  92],\n",
       "        [237,  37, 189, 214, 254, 107, 244, 251],\n",
       "        [112,  72,  15, 164,  30, 205, 143,  68],\n",
       "        [ 50, 198,   7, 144, 216,  87, 140, 227],\n",
       "        [153, 168, 134, 177, 160, 215, 102, 247],\n",
       "        [ 21, 160,  97,  19, 188, 249, 251,  15],\n",
       "        [ 67, 125, 181, 172,  52, 190, 123,  70],\n",
       "        [101,  23, 123,  72, 113,  19, 149, 209]],\n",
       "\n",
       "       [[ 58,  38,   7, 184, 116,  93,  16, 133],\n",
       "        [208, 254,  95,  28, 184,  99, 107,  76],\n",
       "        [158,   4, 211, 144, 217,  38,  86, 117],\n",
       "        [ 81,  59, 111, 186, 226, 121,  54, 119],\n",
       "        [141, 215, 118,  64,  14,  68, 161, 143],\n",
       "        [ 47, 174, 238,  38, 212, 158, 241, 241],\n",
       "        [206,  22, 151, 137, 233,  25, 205,  47],\n",
       "        [ 29, 251, 138,  76, 105, 137, 137, 207]],\n",
       "\n",
       "       [[ 14,  58, 196,  39, 235, 207,  79, 183],\n",
       "        [166,  31,   4,  41,  20,  38, 222,  34],\n",
       "        [ 99, 123,  19,  13,  38, 204, 130,  99],\n",
       "        [137,  84,  34, 171,  73,  93, 104,  26],\n",
       "        [ 86,  74, 216, 161, 243, 152, 216,  98],\n",
       "        [166,  17, 248, 243,  93, 114, 135,  78],\n",
       "        [ 72, 191, 215, 210, 191,  61,  92, 211],\n",
       "        [ 50, 253, 214, 116,  78, 103,  12, 144]],\n",
       "\n",
       "       [[ 59,  73, 222, 149,  27, 131, 167, 170],\n",
       "        [ 27, 210,  48,  61, 180, 182, 225, 156],\n",
       "        [ 81, 184,  89, 253, 138, 226, 158, 140],\n",
       "        [ 44,  20, 173,   3,  56, 151, 195, 106],\n",
       "        [ 87,  90,  72, 110,  26, 120, 131,  63],\n",
       "        [164,  29,  85, 139, 170,   9, 245, 199],\n",
       "        [ 77,  78, 186,  15, 121, 206, 221, 183],\n",
       "        [ 59, 199, 213, 146, 197, 249,  11, 243]],\n",
       "\n",
       "       [[141, 110,  96, 109,  97, 233,  33,  68],\n",
       "        [140,  79, 220, 165,  60, 183,  73,  20],\n",
       "        [ 41, 146, 196, 181, 122, 173,  66, 189],\n",
       "        [  8, 219, 246, 114,   4,  51,  14, 245],\n",
       "        [102, 143, 212, 112,  12, 205,  45, 185],\n",
       "        [152, 191, 104, 170,  60, 160,  55, 213],\n",
       "        [118, 228, 194, 198,  47,  41, 117, 190],\n",
       "        [240, 237, 197,  28,  11,  97, 156, 144]]])"
      ]
     },
     "execution_count": 7,
     "metadata": {},
     "output_type": "execute_result"
    }
   ],
   "source": [
    "# min value\n",
    "# max value\n",
    "# shape(sample, rows, cols)\n",
    "np.random.randint(0,255,(10,8,8)) "
   ]
  },
  {
   "cell_type": "code",
   "execution_count": 3,
   "id": "9720224c",
   "metadata": {},
   "outputs": [
    {
     "data": {
      "text/plain": [
       "array([[ 0,  1,  2,  3,  4,  5,  6,  7,  8,  9],\n",
       "       [10, 11, 12, 13, 14, 15, 16, 17, 18, 19],\n",
       "       [20, 21, 22, 23, 24, 25, 26, 27, 28, 29],\n",
       "       [30, 31, 32, 33, 34, 35, 36, 37, 38, 39],\n",
       "       [40, 41, 42, 43, 44, 45, 46, 47, 48, 49],\n",
       "       [50, 51, 52, 53, 54, 55, 56, 57, 58, 59],\n",
       "       [60, 61, 62, 63, 64, 65, 66, 67, 68, 69],\n",
       "       [70, 71, 72, 73, 74, 75, 76, 77, 78, 79],\n",
       "       [80, 81, 82, 83, 84, 85, 86, 87, 88, 89],\n",
       "       [90, 91, 92, 93, 94, 95, 96, 97, 98, 99]])"
      ]
     },
     "execution_count": 3,
     "metadata": {},
     "output_type": "execute_result"
    }
   ],
   "source": [
    "b = np.arange(100).reshape(10,10)\n",
    "b"
   ]
  },
  {
   "cell_type": "code",
   "execution_count": 11,
   "id": "ee014264",
   "metadata": {},
   "outputs": [
    {
     "name": "stdout",
     "output_type": "stream",
     "text": [
      "[1 2 3]\n"
     ]
    },
    {
     "data": {
      "text/plain": [
       "array([1, 2, 3])"
      ]
     },
     "metadata": {},
     "output_type": "display_data"
    }
   ],
   "source": [
    "# create numpy array\n",
    "n1 = np.array([1,2,3])\n",
    "print(n1)\n",
    "display(n1)"
   ]
  },
  {
   "cell_type": "code",
   "execution_count": 10,
   "id": "1df29a51",
   "metadata": {},
   "outputs": [
    {
     "name": "stdout",
     "output_type": "stream",
     "text": [
      "[1 2 3]\n"
     ]
    },
    {
     "data": {
      "text/plain": [
       "array([1, 2, 3])"
      ]
     },
     "metadata": {},
     "output_type": "display_data"
    }
   ],
   "source": [
    "n2 = np.array((1,2,3))\n",
    "print(n2)\n",
    "display(n2)"
   ]
  },
  {
   "cell_type": "code",
   "execution_count": 17,
   "id": "16b498f9",
   "metadata": {},
   "outputs": [
    {
     "data": {
      "text/plain": [
       "array([[1, 2, 3],\n",
       "       [4, 5, 6]])"
      ]
     },
     "metadata": {},
     "output_type": "display_data"
    },
    {
     "name": "stdout",
     "output_type": "stream",
     "text": [
      "[1 2 3]\n",
      "[4 5 6]\n",
      "(2, 3)\n",
      "[[2 3]\n",
      " [5 6]]\n"
     ]
    }
   ],
   "source": [
    "n3 = np.array([[1,2,3],\n",
    "             [4,5,6]])\n",
    "display(n3)\n",
    "print(n3[0])\n",
    "print(n3[1])\n",
    "# print(n3[2]) error\n",
    "print(n3.shape)\n",
    "print(n3[:,-2:])"
   ]
  },
  {
   "cell_type": "markdown",
   "id": "8f9bb284",
   "metadata": {},
   "source": [
    "# How to create a basic array"
   ]
  },
  {
   "cell_type": "markdown",
   "id": "045ca44d",
   "metadata": {},
   "source": [
    "* np.array()\n",
    "* np.zeros()\n",
    "* np.ones()\n",
    "* np.empty()\n",
    "* np.arange()\n",
    "* np.linspace()"
   ]
  },
  {
   "cell_type": "code",
   "execution_count": 20,
   "id": "678cb531",
   "metadata": {},
   "outputs": [
    {
     "data": {
      "text/plain": [
       "array([0., 0., 0., 0., 0., 0., 0., 0., 0., 0.])"
      ]
     },
     "metadata": {},
     "output_type": "display_data"
    },
    {
     "data": {
      "text/plain": [
       "array([1., 1., 1., 1., 1., 1., 1., 1., 1., 1.])"
      ]
     },
     "metadata": {},
     "output_type": "display_data"
    },
    {
     "data": {
      "text/plain": [
       "array([1., 1., 1., 1., 1., 1., 1., 1., 1., 1.])"
      ]
     },
     "metadata": {},
     "output_type": "display_data"
    }
   ],
   "source": [
    "display(np.zeros(10))  # returns array of zero\n",
    "display(np.ones(10))   # returns array of one\n",
    "display(np.empty(10))  # returns garbage value"
   ]
  },
  {
   "cell_type": "code",
   "execution_count": 22,
   "id": "64b5ed64",
   "metadata": {},
   "outputs": [
    {
     "data": {
      "text/plain": [
       "array([1.  , 1.25, 1.5 , 1.75, 2.  ])"
      ]
     },
     "execution_count": 22,
     "metadata": {},
     "output_type": "execute_result"
    }
   ],
   "source": [
    "# steps\n",
    "np.linspace(1,2,5) # start, end, stepsize"
   ]
  },
  {
   "cell_type": "code",
   "execution_count": 25,
   "id": "c43005a9",
   "metadata": {},
   "outputs": [
    {
     "data": {
      "text/plain": [
       "array([ 1. , 30.5, 60. ])"
      ]
     },
     "execution_count": 25,
     "metadata": {},
     "output_type": "execute_result"
    }
   ],
   "source": [
    "np.linspace(1,60,3)"
   ]
  },
  {
   "cell_type": "code",
   "execution_count": 27,
   "id": "4a706338",
   "metadata": {},
   "outputs": [
    {
     "data": {
      "text/plain": [
       "array([[[ 0,  1,  2],\n",
       "        [ 3,  4,  5],\n",
       "        [ 6,  7,  8]],\n",
       "\n",
       "       [[ 9, 10, 11],\n",
       "        [12, 13, 14],\n",
       "        [15, 16, 17]],\n",
       "\n",
       "       [[18, 19, 20],\n",
       "        [21, 22, 23],\n",
       "        [24, 25, 26]]])"
      ]
     },
     "execution_count": 27,
     "metadata": {},
     "output_type": "execute_result"
    }
   ],
   "source": [
    "x = np.arange(3*3*3).reshape(3,3,3)\n",
    "x"
   ]
  },
  {
   "cell_type": "code",
   "execution_count": 28,
   "id": "032a3312",
   "metadata": {},
   "outputs": [
    {
     "data": {
      "text/plain": [
       "array([[[1, 1, 1],\n",
       "        [1, 1, 1],\n",
       "        [1, 1, 1]],\n",
       "\n",
       "       [[1, 1, 1],\n",
       "        [1, 1, 1],\n",
       "        [1, 1, 1]],\n",
       "\n",
       "       [[1, 1, 1],\n",
       "        [1, 1, 1],\n",
       "        [1, 1, 1]]])"
      ]
     },
     "execution_count": 28,
     "metadata": {},
     "output_type": "execute_result"
    }
   ],
   "source": [
    "# copies shape of one array and fill it with one\n",
    "np.ones_like(x)"
   ]
  },
  {
   "cell_type": "code",
   "execution_count": 30,
   "id": "68392fd9",
   "metadata": {},
   "outputs": [
    {
     "data": {
      "text/plain": [
       "array([[[0, 0, 0],\n",
       "        [0, 0, 0],\n",
       "        [0, 0, 0]],\n",
       "\n",
       "       [[0, 0, 0],\n",
       "        [0, 0, 0],\n",
       "        [0, 0, 0]],\n",
       "\n",
       "       [[0, 0, 0],\n",
       "        [0, 0, 0],\n",
       "        [0, 0, 0]]])"
      ]
     },
     "execution_count": 30,
     "metadata": {},
     "output_type": "execute_result"
    }
   ],
   "source": [
    "# copies shape of one array and fill it with zero\n",
    "np.zeros_like(x)"
   ]
  },
  {
   "cell_type": "code",
   "execution_count": 31,
   "id": "cec7715d",
   "metadata": {
    "scrolled": true
   },
   "outputs": [
    {
     "data": {
      "text/plain": [
       "array([[[0, 0, 0],\n",
       "        [0, 0, 0],\n",
       "        [0, 0, 0]],\n",
       "\n",
       "       [[0, 0, 0],\n",
       "        [0, 0, 0],\n",
       "        [0, 0, 0]],\n",
       "\n",
       "       [[0, 0, 0],\n",
       "        [0, 0, 0],\n",
       "        [0, 0, 0]]])"
      ]
     },
     "execution_count": 31,
     "metadata": {},
     "output_type": "execute_result"
    }
   ],
   "source": [
    "# copies shape of one array and fill it with one\n",
    "np.empty_like(x)"
   ]
  },
  {
   "cell_type": "code",
   "execution_count": 32,
   "id": "29598678",
   "metadata": {},
   "outputs": [
    {
     "data": {
      "text/plain": [
       "array([['1', '1', '1', '1', '1', '1', '1', '1', '1', '1'],\n",
       "       ['1', '1', '1', '1', '1', '1', '1', '1', '1', '1'],\n",
       "       ['1', '1', '1', '1', '1', '1', '1', '1', '1', '1'],\n",
       "       ['1', '1', '1', '1', '1', '1', '1', '1', '1', '1'],\n",
       "       ['1', '1', '1', '1', '1', '1', '1', '1', '1', '1'],\n",
       "       ['1', '1', '1', '1', '1', '1', '1', '1', '1', '1'],\n",
       "       ['1', '1', '1', '1', '1', '1', '1', '1', '1', '1'],\n",
       "       ['1', '1', '1', '1', '1', '1', '1', '1', '1', '1'],\n",
       "       ['1', '1', '1', '1', '1', '1', '1', '1', '1', '1'],\n",
       "       ['1', '1', '1', '1', '1', '1', '1', '1', '1', '1']], dtype='<U1')"
      ]
     },
     "execution_count": 32,
     "metadata": {},
     "output_type": "execute_result"
    }
   ],
   "source": [
    "np.ones((10,10),dtype='str')"
   ]
  },
  {
   "cell_type": "markdown",
   "id": "4ab07fc6",
   "metadata": {},
   "source": [
    "# sorting"
   ]
  },
  {
   "cell_type": "code",
   "execution_count": 35,
   "id": "be8e7baf",
   "metadata": {},
   "outputs": [
    {
     "data": {
      "text/plain": [
       "array([ 1,  2,  4,  5,  7, 34, 87, 92])"
      ]
     },
     "execution_count": 35,
     "metadata": {},
     "output_type": "execute_result"
    }
   ],
   "source": [
    "arr = np.array([92,4,1,34,87,2,5,7])\n",
    "np.sort(arr)"
   ]
  },
  {
   "cell_type": "code",
   "execution_count": 39,
   "id": "dc007b9a",
   "metadata": {},
   "outputs": [
    {
     "data": {
      "text/plain": [
       "array([[[ 0,  1,  2],\n",
       "        [ 3,  4,  5],\n",
       "        [ 6,  7,  8]],\n",
       "\n",
       "       [[ 9, 10, 11],\n",
       "        [12, 13, 14],\n",
       "        [15, 16, 17]],\n",
       "\n",
       "       [[18, 19, 20],\n",
       "        [21, 22, 23],\n",
       "        [24, 25, 26]]])"
      ]
     },
     "execution_count": 39,
     "metadata": {},
     "output_type": "execute_result"
    }
   ],
   "source": [
    "# any one dim\n",
    "np.arange(3*3*3).reshape(3,3,-1) # when we don't know any argument we call fill it with -1, it fills itself"
   ]
  },
  {
   "cell_type": "code",
   "execution_count": 40,
   "id": "ec250992",
   "metadata": {},
   "outputs": [
    {
     "data": {
      "text/plain": [
       "array([[[ 0,  1,  2],\n",
       "        [ 3,  4,  5],\n",
       "        [ 6,  7,  8]],\n",
       "\n",
       "       [[ 9, 10, 11],\n",
       "        [12, 13, 14],\n",
       "        [15, 16, 17]],\n",
       "\n",
       "       [[18, 19, 20],\n",
       "        [21, 22, 23],\n",
       "        [24, 25, 26]]])"
      ]
     },
     "execution_count": 40,
     "metadata": {},
     "output_type": "execute_result"
    }
   ],
   "source": [
    "# any one dim\n",
    "np.arange(3*3*3).reshape(3,-1,3) # when we don't know any argument we call fill it with -1, it fills itself"
   ]
  },
  {
   "cell_type": "code",
   "execution_count": 38,
   "id": "e0c25428",
   "metadata": {},
   "outputs": [
    {
     "data": {
      "text/plain": [
       "array([[[ 0,  1,  2],\n",
       "        [ 3,  4,  5],\n",
       "        [ 6,  7,  8]],\n",
       "\n",
       "       [[ 9, 10, 11],\n",
       "        [12, 13, 14],\n",
       "        [15, 16, 17]],\n",
       "\n",
       "       [[18, 19, 20],\n",
       "        [21, 22, 23],\n",
       "        [24, 25, 26]]])"
      ]
     },
     "execution_count": 38,
     "metadata": {},
     "output_type": "execute_result"
    }
   ],
   "source": [
    "np.arange(3*3*3).reshape(-1,3,3) # when we don't know any argument we call fill it with -1, it fills itself"
   ]
  },
  {
   "cell_type": "markdown",
   "id": "bee4d723",
   "metadata": {},
   "source": [
    "### argfunc => perform function and returns corresponding index"
   ]
  },
  {
   "cell_type": "code",
   "execution_count": 41,
   "id": "70223650",
   "metadata": {},
   "outputs": [
    {
     "name": "stdout",
     "output_type": "stream",
     "text": [
      "2\n",
      "3\n",
      "[3 0 5 4 1 2]\n"
     ]
    }
   ],
   "source": [
    "a = np.array([1,7,20,0,4,3])\n",
    "\n",
    "print(np.argmax(a))    # index of maximum value\n",
    "print(np.argmin(a))    # index of minimum value\n",
    "print(np.argsort(a))   # sort wrt index"
   ]
  },
  {
   "cell_type": "code",
   "execution_count": 47,
   "id": "9c17fc66",
   "metadata": {},
   "outputs": [
    {
     "name": "stdout",
     "output_type": "stream",
     "text": [
      "dog\n"
     ]
    }
   ],
   "source": [
    "labels = ['cat','dog','apple','orange']\n",
    "prediction = [70,100,100,15]\n",
    "index = np.argmax(prediction) # max index probability (returns index of first occurence of largest number)\n",
    "print(labels[index])"
   ]
  },
  {
   "cell_type": "markdown",
   "id": "78baa44a",
   "metadata": {},
   "source": [
    "### concatenate"
   ]
  },
  {
   "cell_type": "code",
   "execution_count": 49,
   "id": "539fe4f0",
   "metadata": {},
   "outputs": [
    {
     "data": {
      "text/plain": [
       "array([[ 1,  2],\n",
       "       [ 3,  4],\n",
       "       [ 5,  6],\n",
       "       [ 7,  8],\n",
       "       [ 9, 10]])"
      ]
     },
     "metadata": {},
     "output_type": "display_data"
    },
    {
     "data": {
      "text/plain": [
       "array([[11, 12],\n",
       "       [13, 14],\n",
       "       [15, 16],\n",
       "       [17, 18],\n",
       "       [19, 20]])"
      ]
     },
     "metadata": {},
     "output_type": "display_data"
    }
   ],
   "source": [
    "a = np.arange(1,11).reshape(5,2)\n",
    "b = np.arange(11,21).reshape(5,2)\n",
    "display(a)\n",
    "display(b)"
   ]
  },
  {
   "cell_type": "code",
   "execution_count": 55,
   "id": "3c2e8be2",
   "metadata": {},
   "outputs": [
    {
     "data": {
      "text/plain": [
       "array([[ 1,  2],\n",
       "       [ 3,  4],\n",
       "       [ 5,  6],\n",
       "       [ 7,  8],\n",
       "       [ 9, 10],\n",
       "       [11, 12],\n",
       "       [13, 14],\n",
       "       [15, 16],\n",
       "       [17, 18],\n",
       "       [19, 20]])"
      ]
     },
     "execution_count": 55,
     "metadata": {},
     "output_type": "execute_result"
    }
   ],
   "source": [
    "np.concatenate((a,b))  # axis default 0"
   ]
  },
  {
   "cell_type": "code",
   "execution_count": 56,
   "id": "451c929d",
   "metadata": {},
   "outputs": [
    {
     "data": {
      "text/plain": [
       "array([[ 1,  2, 11, 12],\n",
       "       [ 3,  4, 13, 14],\n",
       "       [ 5,  6, 15, 16],\n",
       "       [ 7,  8, 17, 18],\n",
       "       [ 9, 10, 19, 20]])"
      ]
     },
     "execution_count": 56,
     "metadata": {},
     "output_type": "execute_result"
    }
   ],
   "source": [
    "np.concatenate((a,b),axis=1)  "
   ]
  },
  {
   "cell_type": "code",
   "execution_count": 57,
   "id": "708c19dd",
   "metadata": {},
   "outputs": [
    {
     "data": {
      "text/plain": [
       "array([[[ 1,  2],\n",
       "        [ 3,  4],\n",
       "        [ 5,  6],\n",
       "        [ 7,  8],\n",
       "        [ 9, 10]],\n",
       "\n",
       "       [[11, 12],\n",
       "        [13, 14],\n",
       "        [15, 16],\n",
       "        [17, 18],\n",
       "        [19, 20]]])"
      ]
     },
     "execution_count": 57,
     "metadata": {},
     "output_type": "execute_result"
    }
   ],
   "source": [
    "np.stack((a,b))   # axis default 0"
   ]
  },
  {
   "cell_type": "code",
   "execution_count": 58,
   "id": "09373941",
   "metadata": {},
   "outputs": [
    {
     "data": {
      "text/plain": [
       "array([[[ 1,  2],\n",
       "        [11, 12]],\n",
       "\n",
       "       [[ 3,  4],\n",
       "        [13, 14]],\n",
       "\n",
       "       [[ 5,  6],\n",
       "        [15, 16]],\n",
       "\n",
       "       [[ 7,  8],\n",
       "        [17, 18]],\n",
       "\n",
       "       [[ 9, 10],\n",
       "        [19, 20]]])"
      ]
     },
     "execution_count": 58,
     "metadata": {},
     "output_type": "execute_result"
    }
   ],
   "source": [
    "np.stack((a,b),axis=1)"
   ]
  },
  {
   "cell_type": "code",
   "execution_count": 59,
   "id": "b3faf0a5",
   "metadata": {},
   "outputs": [
    {
     "data": {
      "text/plain": [
       "array([[ 1,  2, 11, 12],\n",
       "       [ 3,  4, 13, 14],\n",
       "       [ 5,  6, 15, 16],\n",
       "       [ 7,  8, 17, 18],\n",
       "       [ 9, 10, 19, 20]])"
      ]
     },
     "execution_count": 59,
     "metadata": {},
     "output_type": "execute_result"
    }
   ],
   "source": [
    "# horizontal\n",
    "np.hstack((a,b))"
   ]
  },
  {
   "cell_type": "code",
   "execution_count": 60,
   "id": "6b4a8c4d",
   "metadata": {},
   "outputs": [
    {
     "data": {
      "text/plain": [
       "array([[ 1,  2],\n",
       "       [ 3,  4],\n",
       "       [ 5,  6],\n",
       "       [ 7,  8],\n",
       "       [ 9, 10],\n",
       "       [11, 12],\n",
       "       [13, 14],\n",
       "       [15, 16],\n",
       "       [17, 18],\n",
       "       [19, 20]])"
      ]
     },
     "execution_count": 60,
     "metadata": {},
     "output_type": "execute_result"
    }
   ],
   "source": [
    "# vertical\n",
    "np.vstack((a,b))"
   ]
  },
  {
   "cell_type": "markdown",
   "id": "dece2763",
   "metadata": {},
   "source": [
    "### axis"
   ]
  },
  {
   "cell_type": "markdown",
   "id": "fb9d89bd",
   "metadata": {},
   "source": [
    "no. of dimensions\n",
    "* sample\n",
    "* row\n",
    "* column"
   ]
  },
  {
   "cell_type": "code",
   "execution_count": 63,
   "id": "8621a2c2",
   "metadata": {},
   "outputs": [
    {
     "data": {
      "text/plain": [
       "array([[[0, 1],\n",
       "        [2, 3]],\n",
       "\n",
       "       [[4, 5],\n",
       "        [6, 7]]])"
      ]
     },
     "execution_count": 63,
     "metadata": {},
     "output_type": "execute_result"
    }
   ],
   "source": [
    "a = np.arange(2*2*2).reshape(2,2,2)\n",
    "a"
   ]
  },
  {
   "cell_type": "code",
   "execution_count": 64,
   "id": "17590619",
   "metadata": {},
   "outputs": [
    {
     "data": {
      "text/plain": [
       "28"
      ]
     },
     "execution_count": 64,
     "metadata": {},
     "output_type": "execute_result"
    }
   ],
   "source": [
    "a.sum()"
   ]
  },
  {
   "cell_type": "code",
   "execution_count": 65,
   "id": "2a9663f0",
   "metadata": {},
   "outputs": [
    {
     "data": {
      "text/plain": [
       "array([[[0, 1],\n",
       "        [2, 3]],\n",
       "\n",
       "       [[4, 5],\n",
       "        [6, 7]]])"
      ]
     },
     "metadata": {},
     "output_type": "display_data"
    },
    {
     "data": {
      "text/plain": [
       "array([[ 4,  6],\n",
       "       [ 8, 10]])"
      ]
     },
     "execution_count": 65,
     "metadata": {},
     "output_type": "execute_result"
    }
   ],
   "source": [
    "display(a)\n",
    "a.sum(axis=0) # slide wise add / overlap add"
   ]
  },
  {
   "cell_type": "code",
   "execution_count": 66,
   "id": "4fec65ff",
   "metadata": {},
   "outputs": [
    {
     "data": {
      "text/plain": [
       "array([[[0, 1],\n",
       "        [2, 3]],\n",
       "\n",
       "       [[4, 5],\n",
       "        [6, 7]]])"
      ]
     },
     "metadata": {},
     "output_type": "display_data"
    },
    {
     "data": {
      "text/plain": [
       "array([[ 2,  4],\n",
       "       [10, 12]])"
      ]
     },
     "execution_count": 66,
     "metadata": {},
     "output_type": "execute_result"
    }
   ],
   "source": [
    "display(a)\n",
    "a.sum(axis=1) # row wise add"
   ]
  },
  {
   "cell_type": "code",
   "execution_count": 67,
   "id": "b047678e",
   "metadata": {},
   "outputs": [
    {
     "data": {
      "text/plain": [
       "array([[[0, 1],\n",
       "        [2, 3]],\n",
       "\n",
       "       [[4, 5],\n",
       "        [6, 7]]])"
      ]
     },
     "metadata": {},
     "output_type": "display_data"
    },
    {
     "data": {
      "text/plain": [
       "array([[ 1,  5],\n",
       "       [ 9, 13]])"
      ]
     },
     "execution_count": 67,
     "metadata": {},
     "output_type": "execute_result"
    }
   ],
   "source": [
    "display(a)\n",
    "a.sum(axis=2) # column wise add"
   ]
  },
  {
   "cell_type": "markdown",
   "id": "4f1b522d",
   "metadata": {},
   "source": [
    "### index, slicing, fancy slicing and boolean slicing "
   ]
  },
  {
   "cell_type": "code",
   "execution_count": 70,
   "id": "58549464",
   "metadata": {},
   "outputs": [
    {
     "data": {
      "text/plain": [
       "array([[ 0,  1,  2,  3],\n",
       "       [ 4,  5,  6,  7],\n",
       "       [ 8,  9, 10, 11],\n",
       "       [12, 13, 14, 15]])"
      ]
     },
     "execution_count": 70,
     "metadata": {},
     "output_type": "execute_result"
    }
   ],
   "source": [
    "a = np.arange(4*4).reshape(4,4)  # 2x2 matrix\n",
    "a"
   ]
  },
  {
   "cell_type": "code",
   "execution_count": 71,
   "id": "7dbe7322",
   "metadata": {},
   "outputs": [
    {
     "name": "stdout",
     "output_type": "stream",
     "text": [
      "[0 1 2 3]\n",
      "[12 13 14 15]\n"
     ]
    }
   ],
   "source": [
    "# print in the form of text\n",
    "print(a[0])\n",
    "print(a[-1])"
   ]
  },
  {
   "cell_type": "code",
   "execution_count": 72,
   "id": "dbf41feb",
   "metadata": {},
   "outputs": [
    {
     "data": {
      "text/plain": [
       "array([[ 0,  1,  2,  3],\n",
       "       [ 4,  5,  6,  7],\n",
       "       [ 8,  9, 10, 11],\n",
       "       [12, 13, 14, 15]])"
      ]
     },
     "metadata": {},
     "output_type": "display_data"
    },
    {
     "data": {
      "text/plain": [
       "array([[0, 1, 2, 3],\n",
       "       [4, 5, 6, 7]])"
      ]
     },
     "metadata": {},
     "output_type": "display_data"
    }
   ],
   "source": [
    "# display in the form of original format of data type\n",
    "display(a)\n",
    "display(a[0:2])  # end not included"
   ]
  },
  {
   "cell_type": "code",
   "execution_count": 73,
   "id": "163c9224",
   "metadata": {},
   "outputs": [
    {
     "data": {
      "text/plain": [
       "array([[ 0,  1,  2,  3],\n",
       "       [ 4,  5,  6,  7],\n",
       "       [ 8,  9, 10, 11],\n",
       "       [12, 13, 14, 15]])"
      ]
     },
     "metadata": {},
     "output_type": "display_data"
    },
    {
     "data": {
      "text/plain": [
       "array([[ 0,  1,  2,  3],\n",
       "       [ 8,  9, 10, 11]])"
      ]
     },
     "metadata": {},
     "output_type": "display_data"
    }
   ],
   "source": [
    "display(a)\n",
    "display(a[::2])  # stepsize"
   ]
  },
  {
   "cell_type": "code",
   "execution_count": 75,
   "id": "1917df2e",
   "metadata": {},
   "outputs": [
    {
     "data": {
      "text/plain": [
       "array([[ 0,  1,  2,  3],\n",
       "       [ 4,  5,  6,  7],\n",
       "       [ 8,  9, 10, 11],\n",
       "       [12, 13, 14, 15]])"
      ]
     },
     "metadata": {},
     "output_type": "display_data"
    },
    {
     "data": {
      "text/plain": [
       "array([[ 4,  5,  6,  7],\n",
       "       [ 8,  9, 10, 11],\n",
       "       [ 0,  1,  2,  3],\n",
       "       [ 4,  5,  6,  7],\n",
       "       [ 4,  5,  6,  7],\n",
       "       [ 4,  5,  6,  7]])"
      ]
     },
     "metadata": {},
     "output_type": "display_data"
    }
   ],
   "source": [
    "# fancy slicing\n",
    "display(a)\n",
    "display(a[[1,2,0,1,1,1]]) # we give index of rows"
   ]
  },
  {
   "cell_type": "code",
   "execution_count": 79,
   "id": "dbb6cffd",
   "metadata": {},
   "outputs": [
    {
     "data": {
      "text/plain": [
       "array([1, 2, 3, 4, 5, 6])"
      ]
     },
     "metadata": {},
     "output_type": "display_data"
    },
    {
     "data": {
      "text/plain": [
       "array([2, 4, 6])"
      ]
     },
     "metadata": {},
     "output_type": "display_data"
    }
   ],
   "source": [
    "# select even numbers\n",
    "b = np.arange(1,7)\n",
    "display(b)\n",
    "c = b%2==0\n",
    "display(b[c])"
   ]
  },
  {
   "cell_type": "code",
   "execution_count": 80,
   "id": "d602617f",
   "metadata": {},
   "outputs": [
    {
     "data": {
      "text/plain": [
       "array([[ 0,  1,  2,  3],\n",
       "       [ 4,  5,  6,  7],\n",
       "       [ 8,  9, 10, 11],\n",
       "       [12, 13, 14, 15]])"
      ]
     },
     "metadata": {},
     "output_type": "display_data"
    },
    {
     "data": {
      "text/plain": [
       "array([ 0,  2,  4,  6,  8, 10, 12, 14])"
      ]
     },
     "execution_count": 80,
     "metadata": {},
     "output_type": "execute_result"
    }
   ],
   "source": [
    "# divisible by 2\n",
    "display(a)\n",
    "a[a%2==0]"
   ]
  },
  {
   "cell_type": "code",
   "execution_count": 81,
   "id": "f9a25cfc",
   "metadata": {},
   "outputs": [
    {
     "data": {
      "text/plain": [
       "array([[ 0,  1,  2,  3],\n",
       "       [ 4,  5,  6,  7],\n",
       "       [ 8,  9, 10, 11],\n",
       "       [12, 13, 14, 15]])"
      ]
     },
     "metadata": {},
     "output_type": "display_data"
    },
    {
     "data": {
      "text/plain": [
       "array([ 0,  4,  8, 12])"
      ]
     },
     "execution_count": 81,
     "metadata": {},
     "output_type": "execute_result"
    }
   ],
   "source": [
    "# divisible by 2 and 4\n",
    "display(a)\n",
    "a[(a%2==0) & (a%4==0)]"
   ]
  },
  {
   "cell_type": "markdown",
   "id": "f116c9f5",
   "metadata": {},
   "source": [
    "### deep and shallow copy"
   ]
  },
  {
   "cell_type": "code",
   "execution_count": 88,
   "id": "ce270aeb",
   "metadata": {},
   "outputs": [],
   "source": [
    "a = np.arange(4*4).reshape(4,4)\n",
    "b = a\n",
    "c = a.copy()"
   ]
  },
  {
   "cell_type": "code",
   "execution_count": 87,
   "id": "d7ebe8ea",
   "metadata": {},
   "outputs": [
    {
     "data": {
      "text/plain": [
       "array([[[ 0,  1,  2,  3],\n",
       "        [ 4,  5,  6,  7],\n",
       "        [ 8,  9, 10, 11],\n",
       "        [12, 13, 14, 15]]])"
      ]
     },
     "metadata": {},
     "output_type": "display_data"
    },
    {
     "data": {
      "text/plain": [
       "array([[[ 0,  1,  2,  3],\n",
       "        [ 4,  5,  6,  7],\n",
       "        [ 8,  9, 10, 11],\n",
       "        [12, 13, 14, 15]]])"
      ]
     },
     "metadata": {},
     "output_type": "display_data"
    },
    {
     "data": {
      "text/plain": [
       "array([[[ 0,  1,  2,  3],\n",
       "        [ 4,  5,  6,  7],\n",
       "        [ 8,  9, 10, 11],\n",
       "        [12, 13, 14, 15]]])"
      ]
     },
     "metadata": {},
     "output_type": "display_data"
    }
   ],
   "source": [
    "display(a)\n",
    "display(b)\n",
    "display(c)"
   ]
  },
  {
   "cell_type": "code",
   "execution_count": 89,
   "id": "146cb40d",
   "metadata": {},
   "outputs": [
    {
     "data": {
      "text/plain": [
       "array([[200,   1,   2,   3],\n",
       "       [  4,   5,   6,   7],\n",
       "       [  8,   9,  10,  11],\n",
       "       [ 12,  13,  14,  15]])"
      ]
     },
     "metadata": {},
     "output_type": "display_data"
    },
    {
     "data": {
      "text/plain": [
       "array([[200,   1,   2,   3],\n",
       "       [  4,   5,   6,   7],\n",
       "       [  8,   9,  10,  11],\n",
       "       [ 12,  13,  14,  15]])"
      ]
     },
     "metadata": {},
     "output_type": "display_data"
    },
    {
     "data": {
      "text/plain": [
       "array([[ 0,  1,  2,  3],\n",
       "       [ 4,  5,  6,  7],\n",
       "       [ 8,  9, 10, 11],\n",
       "       [12, 13, 14, 15]])"
      ]
     },
     "metadata": {},
     "output_type": "display_data"
    }
   ],
   "source": [
    "a[0][0]=200\n",
    "display(a)\n",
    "display(b)\n",
    "display(c)"
   ]
  },
  {
   "cell_type": "markdown",
   "id": "58f85f90",
   "metadata": {},
   "source": [
    "### split"
   ]
  },
  {
   "cell_type": "code",
   "execution_count": 90,
   "id": "5da7effa",
   "metadata": {},
   "outputs": [
    {
     "data": {
      "text/plain": [
       "array([[200,   1,   2,   3],\n",
       "       [  4,   5,   6,   7],\n",
       "       [  8,   9,  10,  11],\n",
       "       [ 12,  13,  14,  15]])"
      ]
     },
     "metadata": {},
     "output_type": "display_data"
    },
    {
     "data": {
      "text/plain": [
       "[array([[200,   1,   2,   3],\n",
       "        [  4,   5,   6,   7]]),\n",
       " array([[ 8,  9, 10, 11],\n",
       "        [12, 13, 14, 15]])]"
      ]
     },
     "metadata": {},
     "output_type": "display_data"
    }
   ],
   "source": [
    "display(a)\n",
    "# horizontal/ row wise\n",
    "display(np.split(a,2))  # default axis = 0"
   ]
  },
  {
   "cell_type": "code",
   "execution_count": 92,
   "id": "53fdbb30",
   "metadata": {},
   "outputs": [
    {
     "data": {
      "text/plain": [
       "array([[200,   1,   2,   3],\n",
       "       [  4,   5,   6,   7],\n",
       "       [  8,   9,  10,  11],\n",
       "       [ 12,  13,  14,  15]])"
      ]
     },
     "metadata": {},
     "output_type": "display_data"
    },
    {
     "data": {
      "text/plain": [
       "[array([[200,   1],\n",
       "        [  4,   5],\n",
       "        [  8,   9],\n",
       "        [ 12,  13]]),\n",
       " array([[ 2,  3],\n",
       "        [ 6,  7],\n",
       "        [10, 11],\n",
       "        [14, 15]])]"
      ]
     },
     "metadata": {},
     "output_type": "display_data"
    }
   ],
   "source": [
    "display(a)\n",
    "# vertical/ column wise\n",
    "display(np.split(a,2,axis=1))"
   ]
  },
  {
   "cell_type": "code",
   "execution_count": 93,
   "id": "8722c961",
   "metadata": {},
   "outputs": [
    {
     "data": {
      "text/plain": [
       "[array([[200],\n",
       "        [  4],\n",
       "        [  8],\n",
       "        [ 12]]),\n",
       " array([[ 1],\n",
       "        [ 5],\n",
       "        [ 9],\n",
       "        [13]]),\n",
       " array([[ 2],\n",
       "        [ 6],\n",
       "        [10],\n",
       "        [14]]),\n",
       " array([[ 3],\n",
       "        [ 7],\n",
       "        [11],\n",
       "        [15]])]"
      ]
     },
     "metadata": {},
     "output_type": "display_data"
    }
   ],
   "source": [
    "display(np.split(a,4,axis=1))"
   ]
  },
  {
   "cell_type": "code",
   "execution_count": 94,
   "id": "1fd8a0a4",
   "metadata": {},
   "outputs": [
    {
     "data": {
      "text/plain": [
       "[array([[200,   1,   2,   3],\n",
       "        [  4,   5,   6,   7]]),\n",
       " array([[ 8,  9, 10, 11],\n",
       "        [12, 13, 14, 15]])]"
      ]
     },
     "execution_count": 94,
     "metadata": {},
     "output_type": "execute_result"
    }
   ],
   "source": [
    "np.vsplit(a,2)"
   ]
  },
  {
   "cell_type": "code",
   "execution_count": 95,
   "id": "54bef363",
   "metadata": {},
   "outputs": [
    {
     "data": {
      "text/plain": [
       "[array([[200,   1],\n",
       "        [  4,   5],\n",
       "        [  8,   9],\n",
       "        [ 12,  13]]),\n",
       " array([[ 2,  3],\n",
       "        [ 6,  7],\n",
       "        [10, 11],\n",
       "        [14, 15]])]"
      ]
     },
     "execution_count": 95,
     "metadata": {},
     "output_type": "execute_result"
    }
   ],
   "source": [
    "# horizontal\n",
    "np.hsplit(a,2)"
   ]
  },
  {
   "cell_type": "code",
   "execution_count": 98,
   "id": "764297ec",
   "metadata": {},
   "outputs": [
    {
     "data": {
      "text/plain": [
       "array([[1000200, 1000001, 1000002, 1000003],\n",
       "       [1000004, 1000005, 1000006, 1000007],\n",
       "       [1000008, 1000009, 1000010, 1000011],\n",
       "       [1000012, 1000013, 1000014, 1000015]])"
      ]
     },
     "execution_count": 98,
     "metadata": {},
     "output_type": "execute_result"
    }
   ],
   "source": [
    "# broadcasting\n",
    "a+1000000"
   ]
  },
  {
   "cell_type": "code",
   "execution_count": null,
   "id": "1751fe3e",
   "metadata": {},
   "outputs": [],
   "source": [
    "# ones\n",
    "# zeros\n",
    "# unique"
   ]
  },
  {
   "cell_type": "code",
   "execution_count": null,
   "id": "b3052934",
   "metadata": {},
   "outputs": [],
   "source": [
    "# data augmentation"
   ]
  },
  {
   "cell_type": "code",
   "execution_count": null,
   "id": "63765489",
   "metadata": {},
   "outputs": [],
   "source": [
    "# top to bottom => axis = 0\n",
    "# left to right => axis = 1"
   ]
  }
 ],
 "metadata": {
  "kernelspec": {
   "display_name": "Python 3",
   "language": "python",
   "name": "python3"
  },
  "language_info": {
   "codemirror_mode": {
    "name": "ipython",
    "version": 3
   },
   "file_extension": ".py",
   "mimetype": "text/x-python",
   "name": "python",
   "nbconvert_exporter": "python",
   "pygments_lexer": "ipython3",
   "version": "3.8.8"
  }
 },
 "nbformat": 4,
 "nbformat_minor": 5
}
